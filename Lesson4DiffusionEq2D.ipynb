{
 "cells": [
  {
   "cell_type": "markdown",
   "metadata": {},
   "source": [
    "In this lesson, we will practice on solving 2D diffusion equations.  \n",
    "\n",
    "### Philosophy\n",
    "The philosophy of our PT method is to write numerical code corresponding to the equations'  mathematical formulation. As long as you know the equations,\n",
    "you should know how to write the code to solve it! \n",
    "\n",
    "Now lets look at the 1D case: \n",
    "The 1D diffusion equation is: \n",
    "        $$ q =- D \\frac {\\partial T} {\\partial x}      \\tag{1} $$\n",
    "        $$ \\frac {\\partial T}  {\\partial t} =D(\\frac {\\partial^2 T} {\\partial x^2} ) =\\frac {\\partial} {\\partial x} (D \\frac {\\partial T} {\\partial x}) =-\\frac {\\partial { }} {\\partial x}(q)  \\tag{2}  $$\n"
   ]
  },
  {
   "cell_type": "markdown",
   "metadata": {},
   "source": [
    "The PT formulation to solve T at a specific physical time through pseudo time stepping is: \n",
    "                $$ \\frac{\\partial T}{\\partial \\tau}=-\\frac {\\partial T}  {\\partial t} -\\frac {\\partial { }} {\\partial x}(q)  \\tag{3}$$\n",
    "\n",
    "        \n"
   ]
  },
  {
   "cell_type": "markdown",
   "metadata": {},
   "source": [
    "The corresonding octave code for PT method to solve the equationis (from Diff1D_implicit_2nd.m):\n",
    "<br>\n",
    "<pre>                                  q             = -D*diff(T)/dx;  \n",
    "<pre>                                  dTdtau1       = -(T(2:nx-1)-Told(2:nx-1))/dt-diff(q)/dx;\n",
    "<pre>                                  T(2:nx-1)     = T(2:nx-1) + dtau*dTdtau1; \n"
   ]
  },
  {
   "cell_type": "markdown",
   "metadata": {},
   "source": [
    "\n",
    "As we can see, it is a direct translation from mathematical formulation to numerical code,except that we have to adjust the dimension of the arrays for each variable.  This is usually related to the boundary nodes, which one can easily figure out by plotting the numerical cells and grids. \n",
    "<br>In the same way, we can also do it for 2D problem.\n"
   ]
  },
  {
   "cell_type": "markdown",
   "metadata": {},
   "source": [
    "\n",
    "The 2D diffusion equation: \n",
    "       $$ q_x =- D \\frac {\\partial T} {\\partial x}      \\tag{4} $$\n",
    "       $$ q_y =- D \\frac {\\partial T} {\\partial y}      \\tag{5} $$\n",
    "        $$ \\frac {\\partial T}  {\\partial t} =D(\\frac {\\partial^2 T} {\\partial x^2}  +\\frac {\\partial^2 T} {\\partial x^2} ) =\\frac {\\partial} {\\partial x} (D \\frac {\\partial T} {\\partial x}) + \\frac {\\partial} {\\partial y} (D \\frac {\\partial T} {\\partial y}) =-\\frac {\\partial } {\\partial x}(q_x) -\\frac {\\partial } {\\partial y}(q_y)   \\tag{6}  $$"
   ]
  },
  {
   "cell_type": "markdown",
   "metadata": {},
   "source": [
    "The PT formulation  is: \n",
    "                $$ \\frac{\\partial T}{\\partial \\tau}=-\\frac {\\partial T}  {\\partial t} -\\frac {\\partial { }} {\\partial x}(q_x)-\\frac {\\partial { }} {\\partial y}(q_y)  \\tag{7}$$"
   ]
  },
  {
   "cell_type": "markdown",
   "metadata": {},
   "source": [
    "Correspondingly, the octave code should be:\n",
    "    <pre>                                qx      = -D\\*diff(T,1,1)/dx; %nx-1,ny\n",
    "    <pre>                                qy      = -D\\*diff(T,1,2)/dy; %nx,ny-1\n",
    "    <pre>                                dTdtau1 = -(T(2:nx-1,2:ny-1)-Told(2:nx-1,2:ny-1))/dt-diff(qx(:,2:ny-1),1,1)/dx-diff(qy(2:nx-1,:),1,2)/dy;\n",
    "    <pre>                                T(2:nx-1,2:ny-1) = T(2:nx-1,2:ny-1) + dtau.*dTdtau1;"
   ]
  },
  {
   "cell_type": "markdown",
   "metadata": {},
   "source": [
    "Then we just need to use a dampening scheme to accelerate the convergence: \n",
    "<pre>                                dTdtau2             = damp*dTdtau2 + dTdtau1;\n",
    "<pre>                                T(2:nx-1,2:ny-1) = T(2:nx-1,2:ny-1) + dtau.*dTdtau2;"
   ]
  },
  {
   "cell_type": "markdown",
   "metadata": {},
   "source": [
    "Now we have the core code to solve 2D diffuion equations. For the rest of the code, you just need to change it from 1D code by extending all arrays into 2D and intialized them. The indexing is slightly more complex than 1D case, but it is not difficult to figure out!\n",
    "\n",
    "The octave code is: Diff2D_implicit_2nd.m\n",
    "\n",
    "### Practices：  \n",
    "<pre>           1.Test different damp values\n",
    "<pre>           2. simplified the code by removing qx and qy ; \n",
    "<pre>           3. use different intial consition.\n",
    "<pre>           4. implement different boundary conditions.\n",
    "<pre>           5. You should try to write the own 2D code from scratch. \n"
   ]
  },
  {
   "cell_type": "markdown",
   "metadata": {},
   "source": [
    "\n",
    "The next Lesson we will look into a more complicated equations: Stokes equation! \n",
    "The same philosophy is applied: If you can write the mathematical formulation of the equation, it is straightforward to write the numerical code to solve it!"
   ]
  },
  {
   "cell_type": "markdown",
   "metadata": {},
   "source": [
    "### Material for this lesson:\n",
    "\n",
    "Diff2D_implicit_2nd.m \n"
   ]
  }
 ],
 "metadata": {
  "kernelspec": {
   "display_name": "Python 3 (ipykernel)",
   "language": "python",
   "name": "python3"
  },
  "language_info": {
   "codemirror_mode": {
    "name": "ipython",
    "version": 3
   },
   "file_extension": ".py",
   "mimetype": "text/x-python",
   "name": "python",
   "nbconvert_exporter": "python",
   "pygments_lexer": "ipython3",
   "version": "3.8.5"
  }
 },
 "nbformat": 4,
 "nbformat_minor": 4
}
