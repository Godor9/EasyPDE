{
 "cells": [
  {
   "cell_type": "markdown",
   "metadata": {},
   "source": [
    "In the first lesson, we went through the explicit method solving 1D diffusion equation. Now we will focus on the implicit\n",
    "method and implicit solution. (check why do we need implicit solution for PDEs by using google).\n",
    "As we find in 1st lesson, the implicit method is to solve: \n",
    "$$ \\frac {{T_i}^{t+1}-{T_i}^t}  {\\Delta t} =-\\frac{{q_i}^{t+1}-{q_{i-1}}^{t+1}}  {\\Delta x}  \\tag{1}   $$\n"
   ]
  },
  {
   "cell_type": "markdown",
   "metadata": {},
   "source": [
    "Now we can introduce Pseudo-transient method. The basic idea is to introduce a pseudo time in the above equation and approaching the implicit solution of  $T^{t+1}$ through as pseudo physical process.\n",
    "Imaging there is a (pseudo) physical process that will change the T field from one state ( $T^{t}$ ) to another state ( $T^{t+1}$) and it evolve over the pseudo time $\\tau$, we can add the pseudo time derivative as: \n",
    "$$  \\color {red} {\\frac  {dT} {\\Delta \\tau}} = $$\n",
    "$$\\frac {{T_i}^{\\tau}-{T_i}^t}  {\\Delta \\tau} +\\frac{{q_i}^{\\tau}-{q_{i-1}}^{\\tau}}  {\\Delta x}  \\tag{2}   $$\n"
   ]
  },
  {
   "cell_type": "markdown",
   "metadata": {},
   "source": [
    "It can be seen that $T^\\tau$ will approach  $T^{t+1}$ naturally as the pseudo physical process come to an stable status as \n",
    "$\\frac {dT} {\\Delta \\tau}$ approach zero. \n",
    "Now we can apply the explicit method to calcuate the intermediate states until the pseudo derivative $\\frac {dT} {\\Delta \\tau}$  become small enough.\n",
    "$$ T_i ^{\\color {red} {\\tau+1}} = T_i ^{\\color {red} {\\tau}} + \\color {red} {\\frac {dT} {\\Delta\\tau} *\\Delta\\tau}$$\n",
    "\n",
    "This is called Pseudo-transient method or continuation, which solve physical equation by using (pseudo) physical process, It is a iterative method to solve PDEs but inspired by physical process(Wang et al. 2022 GJI).\n",
    "\n"
   ]
  },
  {
   "cell_type": "code",
   "execution_count": null,
   "metadata": {},
   "outputs": [],
   "source": [
    "\n",
    "A simple implemenation of this algorithm is in the matlab/octave script: Diff1D_implicit.m"
   ]
  },
  {
   "cell_type": "markdown",
   "metadata": {},
   "source": []
  },
  {
   "cell_type": "markdown",
   "metadata": {},
   "source": []
  },
  {
   "cell_type": "code",
   "execution_count": null,
   "metadata": {},
   "outputs": [],
   "source": []
  },
  {
   "cell_type": "markdown",
   "metadata": {},
   "source": []
  },
  {
   "cell_type": "markdown",
   "metadata": {},
   "source": [
    "\n"
   ]
  },
  {
   "cell_type": "code",
   "execution_count": null,
   "metadata": {},
   "outputs": [],
   "source": []
  },
  {
   "cell_type": "code",
   "execution_count": null,
   "metadata": {},
   "outputs": [],
   "source": []
  },
  {
   "cell_type": "markdown",
   "metadata": {},
   "source": []
  },
  {
   "cell_type": "code",
   "execution_count": null,
   "metadata": {},
   "outputs": [],
   "source": []
  }
 ],
 "metadata": {
  "kernelspec": {
   "display_name": "Python 3 (ipykernel)",
   "language": "python",
   "name": "python3"
  },
  "language_info": {
   "codemirror_mode": {
    "name": "ipython",
    "version": 3
   },
   "file_extension": ".py",
   "mimetype": "text/x-python",
   "name": "python",
   "nbconvert_exporter": "python",
   "pygments_lexer": "ipython3",
   "version": "3.8.5"
  }
 },
 "nbformat": 4,
 "nbformat_minor": 4
}
