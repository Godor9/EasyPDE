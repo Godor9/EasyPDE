{
 "cells": [
  {
   "cell_type": "markdown",
   "metadata": {},
   "source": [
    "In this jupyter notebook, we will explain how to solve diffusion equation with the simplest finite difference method (FDM) as the first course! \n",
    " To involve the physics, lets take heat diffusion equation for example:\n",
    "        $$\\rho C_p \\frac {\\partial T}  {\\partial t} =\\frac {\\partial} {\\partial x} (k \\frac {\\partial T} {\\partial x})                   \\tag{1} $$              "
   ]
  },
  {
   "cell_type": "markdown",
   "metadata": {},
   "source": [
    "It can be simplified to: \n",
    "        $$ \\frac {\\partial T}  {\\partial t} =\\frac {\\partial} {\\partial x} (D \\frac {\\partial T} {\\partial x})     \\tag{2}  $$"
   ]
  },
  {
   "cell_type": "markdown",
   "metadata": {},
   "source": [
    "Now we can start to do the numerical discretization. One can do it directly on this 2nd partial differential equation,but\n",
    "here we will split it into two 1st order PDEs.  It is for the conveniance of introducing Pseudo-transient method with dampening in the 2nd lesson. \n",
    "        $$ q =- D \\frac {\\partial T} {\\partial x}      \\tag{3} $$\n",
    "        $$ \\frac {\\partial T}  {\\partial t} =-\\frac{\\partial q} {\\partial x}     \\tag{4} $$                                            "
   ]
  },
  {
   "cell_type": "markdown",
   "metadata": {},
   "source": [
    "In fact, these two equations has physical meaning.q is the scaled heat flux ($q_{real}=q * \\rho C_p$). \n",
    "Physically,q is the flux. Use backward difference for the spatial discretization and forward difference for the temporal \n",
    "discretiztion, we have: \n",
    "$$ q_i =- D \\frac {T_i-T_{i-1}} {\\Delta x} \\tag{5}  $$\n",
    "$$ \\frac {{T_i}^{t+1}-{T_i}^t}  {\\Delta t} =-\\frac{{q_i}^t-{q_{i-1}}^t}  {\\Delta x} \\rightarrow \\color {red} {\\Delta T_{dt}}  \\tag{6}   $$\n"
   ]
  },
  {
   "cell_type": "markdown",
   "metadata": {},
   "source": [
    "This leads to:\n",
    "$${T_i}^{t+1}={T_i}^t+ \\Delta t *\\color {red}{\\Delta T_{dt}} \\tag{7} $$\n"
   ]
  },
  {
   "cell_type": "markdown",
   "metadata": {},
   "source": [
    "It suggests that we can directly calculate the new T at any location when the old T field is known. \n",
    "This way of solve the time-dependent equation, without solving a system of equations,  is called explicit method, and its solution can be called \"explicit solution\". Comparably, the discretization of Eq.4) can also be written as:\n",
    "\n",
    "$$ \\frac {{T_i}^{t+1}-{T_i}^t}  {\\Delta t} =-\\frac{{q_i}^{t+1}-{q_{i-1}}^{t+1}}  {\\Delta x}  \\tag{8}   $$\n",
    "\n"
   ]
  },
  {
   "cell_type": "markdown",
   "metadata": {},
   "source": [
    "Now the calcualtion of $T^{t+1}$ requires the $q^{t+1}$, which is also unknown. Using Eq. 5) into Eq.8), a system of equations solving the unknown field $T^{t+1}$ is formed. It can not be directly calcuated like Eq.7), but can be solve with maxtrix operation or iteration method. This way of solving $T^{t+1}$ is called implicit method, and its solution is called implicit method.  \n",
    "Now we come back to the explicit method and Here is an quick implemenation. \n"
   ]
  },
  {
   "cell_type": "code",
   "execution_count": null,
   "metadata": {},
   "outputs": [],
   "source": []
  },
  {
   "cell_type": "code",
   "execution_count": 3,
   "metadata": {},
   "outputs": [
    {
     "data": {
      "image/png": "[encoded data removed]",
      "text/plain": [
       "<Figure size 432x288 with 1 Axes>"
      ]
     },
     "metadata": {
      "needs_background": "light"
     },
     "output_type": "display_data"
    },
    {
     "data": {
      "image/png": "[encoded data removed]",
      "text/plain": [
       "<Figure size 432x288 with 1 Axes>"
      ]
     },
     "metadata": {
      "needs_background": "light"
     },
     "output_type": "display_data"
    },
    {
     "name": "stdout",
     "output_type": "stream",
     "text": [
      "Total 10000 step are calculated.\n",
      "The physical time is =0.01\n",
      "\n"
     ]
    }
   ],
   "source": [
    "import numpy as np\n",
    "import matplotlib.pyplot as plt\n",
    "\n",
    "# Constants\n",
    "Lx = 10\n",
    "D  = 100\n",
    "tsc = Lx * Lx / D  # charateristic timescale\n",
    "\n",
    "\n",
    "# Discretization\n",
    "nx = 250*2  # nx cell\n",
    "dx = Lx / nx\n",
    "x  = np.linspace(0, Lx, nx + 1)  #\n",
    "xc = (x[:-1] + x[1:]) / 2        #xc is at the cell center.  \n",
    "\n",
    "cnt  = 100\n",
    "epsi = 1e-4\n",
    "Imax = 100 * nx # maximu iteration\n",
    "ndim = 1  # dimension of the code. 1D here!\n",
    "CFL  = 0.9\n",
    "\n",
    "dtaudiff = CFL * dx * dx / (2 * D * ndim) # CFL controled dt,which maintain the stability of the explicit scheme!\n",
    "dt       = dtaudiff * 0.5  # actual dt for time marching. \n",
    "# check CFL criterion for the numerical scheme\n",
    "\n",
    "# Initiation\n",
    "#You can set your whatever initial condition!\n",
    "#Here we choose an intial condition that we know the analytical solution （Tana）! Thus we can verify the numerical solution!\n",
    "T0 = np.zeros(nx)\n",
    "a  = 0.5 * Lx\n",
    "t0 = tsc / 1600\n",
    "T0 = np.exp(-(xc - a) ** 2 / (4 * D * t0))\n",
    "\n",
    "Told = T0\n",
    "T = T0.copy()  # .copy is needed for python. Otherwise T0 and T would be the different name of the same array\n",
    "f = np.sin(xc) # one can setup the heat generation/sink item. Let it be 0 first!\n",
    "f[:] = 0\n",
    "\n",
    "# Boundary condition # Fixed T at boundary here!\n",
    "dTdt = np.zeros(nx - 2)\n",
    "\n",
    "time = 0\n",
    "ttol = 1 * tsc  # 0.1 * tsc\n",
    "\n",
    "it = 0\n",
    "plt.show()\n",
    "while time < ttol * 0.999 and it < 10000:\n",
    "    q = -D * np.diff(T) / dx\n",
    "    dTdt = (-np.diff(q) / dx + f[1:-1])\n",
    "    T[1:-1] = T[1:-1] + dt * dTdt\n",
    "\n",
    "    it = it + 1\n",
    "    time = time + dt\n",
    "    Told = T\n",
    "    if it % 100 == 0:\n",
    "        #print(it)\n",
    "        plt.clf()\n",
    "        plt.plot(xc, T, 'b', xc, T0, 'k');\n",
    "\n",
    "\n",
    "#Tana = 1 / np.sqrt(4 * (ttol + 1 / 4)) * np.exp(-(xc - a) ** 2 / (4 * D * (ttol + 1 / 4)))\n",
    "Tana = np.sqrt(t0 / (t0 + time)) * np.exp(-(xc - a) ** 2 / (4 * D * (t0 + time)))\n",
    "plt.figure()\n",
    "plt.plot(xc, T, 'b', xc, Tana, 'r', xc, T0, 'k')\n",
    "plt.show()\n",
    "\n",
    "print('Total %d step are calculated.\\nThe physical time is =%4.2f\\n' % (it, time))\n",
    "\n",
    "\n"
   ]
  },
  {
   "cell_type": "markdown",
   "metadata": {},
   "source": [
    "As we can tested with this code, the explicit method can match with the analytical solution very well when suitable dx and dt are used. \n",
    "But for certain reason, the implicit solution is commonly used, which will be solved in the 2nd course.\n",
    "One thing that is worthy be noticed here is that the time derivative in Eq.2) will finnally diminishing over time through this physial process"
   ]
  },
  {
   "cell_type": "markdown",
   "metadata": {},
   "source": [
    "What I presented here involves only simple mathmatics and physics ,one shall have little problem to read through it. This is a simple explicit solution for diffusion problem. It is so intuitive that it does not involve any coefficents matrix assembly.It may be a naive solution for this problem, but it really explain the idea of pseudo transient method! Imagine every PDE can be used like this!!! \n",
    "\n",
    "      Even though it is simple, one can only really get it when you play with it with your own hand and computer code!\n",
    "Here are a few excercises to do: \n",
    "\n",
    "1. try different dt. See when the solution became unstable! Why? check CFL and why it is important!\n",
    "\n",
    "2. Remove the analytical solution parts (as it may not apply) and try:\n",
    "  a. difference initial condition T.\n",
    "  b. play with boundary condition.\n",
    "  \n",
    "3. Solve this heat conduction problem by modifying the code: how would the temperature of a low temperature stick evolve when it is got heaten at the two boundry.\n"
   ]
  },
  {
   "cell_type": "code",
   "execution_count": null,
   "metadata": {},
   "outputs": [],
   "source": []
  }
 ],
 "metadata": {
  "kernelspec": {
   "display_name": "Python 3 (ipykernel)",
   "language": "python",
   "name": "python3"
  },
  "language_info": {
   "codemirror_mode": {
    "name": "ipython",
    "version": 3
   },
   "file_extension": ".py",
   "mimetype": "text/x-python",
   "name": "python",
   "nbconvert_exporter": "python",
   "pygments_lexer": "ipython3",
   "version": "3.8.5"
  }
 },
 "nbformat": 4,
 "nbformat_minor": 4
}
