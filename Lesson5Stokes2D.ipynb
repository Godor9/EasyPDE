{
 "cells": [
  {
   "cell_type": "markdown",
   "metadata": {},
   "source": [
    "In this lesson, we will demonstrate how to solve 2D Stokes equations with th PT method \n",
    "\n",
    "### Philosophy\n",
    "The philosophy of our PT method is to write numerical code corresponding to the equations'  mathematical formulation. As long as you know the equations,\n",
    "you should know how to write the code to solve it! \n",
    "\n"
   ]
  },
  {
   "cell_type": "markdown",
   "metadata": {},
   "source": [
    "Here is the Stokes Equations that usually solved in geodynamics: viscous rheology; incompressible; boussineqq approximation;\n",
    "\n",
    "   $$ \\nabla _j (\\tau_{ij} -P\\delta_{ij})  -\\rho g= 0   \\tag{1} $$\n",
    "   $$\\nabla _k V_k = 0  \\tag{2} $$\n",
    "   whereas;\n",
    "   $$\\tau_{ij}=2 \\eta_s \\cdot (\\frac{1}{2}(\\nabla _i V_j+\\nabla _j V_i)-\\frac {1}{3}\\delta_{ij}\\nabla _k V_k)  \\tag {3} $$\n",
    "\n",
    "\n",
    "        \n"
   ]
  },
  {
   "cell_type": "markdown",
   "metadata": {},
   "source": [
    " The formulaiton for 2D case: \n",
    "\n",
    "   $$ \\frac {\\partial (\\tau_ {xx} -P)} {\\partial x} +\\frac {\\partial \\tau_{xy}}{\\partial y} -\\rho g_x= 0  \\tag{4} $$\n",
    "   $$ \\frac {\\partial (\\tau_ {yy} -P)} {\\partial y}+\\frac {\\partial \\tau_ {xy}} {\\partial x} -\\rho g_y= 0  \\tag{5} $$\n",
    "   $$ \\nabla _k V_k=\\frac {\\partial V_ {x}} {\\partial x}+\\frac {\\partial V_ {y}} {\\partial y}  = 0  \\tag{6} $$\n",
    "\n",
    "   whereas;\n",
    "   $$\\tau_{xy}=2 \\eta_s \\cdot (\\frac{1}{2}(\\frac {\\partial V _x}{\\partial y} +\\frac {\\partial V _y}{\\partial x} ) $$\n",
    "   $$\\tau_{xx}=2 \\eta_s \\cdot (\\frac {\\partial V _x}{\\partial x}- \\frac{1}{3}\\nabla _k V_k)  $$\n",
    "   $$\\tau_{yy}=2 \\eta_s \\cdot (\\frac {\\partial V _y}{\\partial y}- \\frac{1}{3}\\nabla _k V_k)   $$"
   ]
  },
  {
   "cell_type": "markdown",
   "metadata": {},
   "source": [
    "Consider the incompressible assumption, $\\nabla _k V_k=0$, the deritoric stress: \n",
    "   $$\\tau_{xy}=2 \\eta_s \\cdot (\\frac{1}{2}(\\frac {\\partial V _x}{\\partial y} +\\frac {\\partial V _y}{\\partial x} ) \\tag {7} $$\n",
    "   $$\\tau_{xx}=2 \\eta_s \\cdot (\\frac {\\partial V _x}{\\partial x}) \\tag {8} $$\n",
    "   $$\\tau_{yy}=2 \\eta_s \\cdot (\\frac {\\partial V _y}{\\partial y}) \\tag {9} $$"
   ]
  },
  {
   "cell_type": "markdown",
   "metadata": {},
   "source": [
    "The PT formulation to solve $V_x$ at a specific physical time through pseudo time stepping is: \n",
    "\n",
    "  $$ \\frac{\\partial V_x}{\\partial \\tau}=\\frac {\\partial (\\tau_ {xx} -P)} {\\partial x} +\\frac {\\partial \\tau_{xy}}{\\partial y} -\\rho g_x  \\tag{10}$$\n",
    "  $$ \\frac{\\partial V_y}{\\partial \\tau}= \\frac {\\partial (\\tau_ {yy} -P)} {\\partial y}+\\frac {\\partial \\tau_ {xy}} {\\partial x} -\\rho g_y  \\tag{11} $$\n",
    "  $$ \\frac{\\partial P}{\\partial \\tau_p} = -(\\frac {\\partial V_ {x}} {\\partial x}+\\frac {\\partial V_ {y}} {\\partial y}) \\tag{12} $$\n"
   ]
  },
  {
   "cell_type": "markdown",
   "metadata": {},
   "source": [
    "Correspondingly, the octave code is:\n",
    "<pre>        div = (diff(Vx,1,1)/dx+diff(Vy,1,2)/dy);\n",
    "<pre>        Exx = diff(Vx,1,1)/dx-1/3*div;\n",
    "<pre>        Eyy = diff(Vy,1,2)/dy-1/3*div;\n",
    "<pre>        Exy = (diff(Vx(2:nx,:),1,2)/dy+diff(Vy(:,2:ny),1,1)/dx)*0.5;\n",
    "<pre>        Txx = 2.0*mu*(Exx+beta_n*div);   %(nx,ny)\n",
    "<pre>        Tyy = 2.0*mu*(Eyy+beta_n*div);   %(nx,ny)\n",
    "<pre>        Txy(2:nx,2:ny) =2.0*mu*Exy;\n",
    "<pre>        RVx1=(diff(Txx(:,2:ny-1),1,1)/dx+diff(Txy(2:nx,2:ny),1,2)/dy- diff(P(:,2:ny-1),1,1)/dx);\n",
    "<pre>        RVx2=RVx1+dampx*RVx2;\n",
    "<pre>        RVy1=(diff(Tyy(2:nx-1,:),1,2)/dy+diff(Txy(2:nx,2:ny),1,1)/dx- diff(P(2:nx-1,:),1,2)/dy- rhosg);\n",
    "<pre>        RVy2=RVy1+dampx*RVy2;\n",
    "<pre>        Vx(2:nx,2:ny-1) = Vx(2:nx,2:ny-1)+dtau*RVx2;\n",
    "<pre>        Vy(2:nx-1,2:ny) = Vy(2:nx-1,2:ny)+dtau*RVy2;\n",
    "<pre>        P = P - dtauP*div;  %P = P - mean(P(:));"
   ]
  },
  {
   "cell_type": "markdown",
   "metadata": {},
   "source": [
    "Based on the understanding of PT methods from previous lesson, I hope you can see that the above code matches well with the formulation:Eq.4)-Eq.12).\n",
    "However, you would noticed there are two new things.\n",
    "\n",
    "### 1. New parameter $\\beta_n$, which is the artifical bulk viscosity. \n",
    "Test different value to see how it affect the convergence! \n",
    "Would it change the solution that as we modified the formulation? No, it won't change the solution as $\\nabla V$ is approaching 0 when the code converges.\n",
    "      \n"
   ]
  },
  {
   "cell_type": "markdown",
   "metadata": {},
   "source": [
    "### 2. A different pseudo timestep for P ($d\\tau_p$) is use than the pseudo timestep for Vx and Vy ($d\\tau$) \n",
    "Therefore, we need to define both timestep in the code.\n",
    "\n",
    "The code to define the pseudo timestep and dampening parameters are: \n",
    "<pre>            D            = 2*mu*(2/3+beta_n)+mu; # equvilent diffusion coefficient.\n",
    "<pre>            dtau         = CFL*dx*dx/D/2.1/1; # dt from damped wave equation. % it works with D/2.1, very fast! But be ready to change to D/4.1 if not converged!\n",
    "<pre>            a            = dtau;\n",
    "<pre>            bx           = 1* pi*omega/nx;\n",
    "<pre>            by           = 1* pi*omega/ny;  % include beta_n for pressure equation!\n",
    "<pre>            dampx        = 1 - bx;\n",
    "<pre>            dampy        = 1 - by;\n",
    "<pre>            dtauP        = 0.95*2*mu*ndim*(1+1*beta_n)/nx;  "
   ]
  },
  {
   "cell_type": "markdown",
   "metadata": {},
   "source": [
    "The supplemental material DeriveDampening2DStokes2nd.ipynb provide a derivation for the dampening parameters (dampx,dampy) and $d\\tau$. You may find it useful. \n",
    "However, it doesn't provide an explanation for the choice of $d\\tau_p$. You can take it as a empirical parameter.  Try to find the best value for your problem!"
   ]
  },
  {
   "cell_type": "markdown",
   "metadata": {},
   "source": [
    "\n",
    "\n",
    "### Practice：  \n",
    "\n",
    "<pre>           1. test differnt dampening parameters and see how does they affect the convergence\n",
    "<pre>           2. use different intial consition.\n",
    "<pre>           3. implement different boundary conditions.\n",
    "<pre>           4. You should try to write the own 2D code from scratch. \n"
   ]
  },
  {
   "cell_type": "markdown",
   "metadata": {},
   "source": [
    "### Material for this lesson:\n",
    "\n",
    "<pre>    Stokes2D_2nddamp.m \n",
    "<pre>    DeriveDampening2DStokes2nd.ipynb"
   ]
  }
 ],
 "metadata": {
  "kernelspec": {
   "display_name": "Python 3 (ipykernel)",
   "language": "python",
   "name": "python3"
  },
  "language_info": {
   "codemirror_mode": {
    "name": "ipython",
    "version": 3
   },
   "file_extension": ".py",
   "mimetype": "text/x-python",
   "name": "python",
   "nbconvert_exporter": "python",
   "pygments_lexer": "ipython3",
   "version": "3.8.5"
  }
 },
 "nbformat": 4,
 "nbformat_minor": 4
}
