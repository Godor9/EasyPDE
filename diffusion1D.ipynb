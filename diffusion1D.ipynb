{
  "metadata": {
    "kernelspec": {
      "name": "python",
      "display_name": "Python (Pyodide)",
      "language": "python"
    },
    "language_info": {
      "codemirror_mode": {
        "name": "python",
        "version": 3
      },
      "file_extension": ".py",
      "mimetype": "text/x-python",
      "name": "python",
      "nbconvert_exporter": "python",
      "pygments_lexer": "ipython3",
      "version": "3.8"
    }
  },
  "nbformat_minor": 4,
  "nbformat": 4,
  "cells": [
    {
      "cell_type": "code",
      "source": "$ y = a + b x $",
      "metadata": {
        "trusted": true
      },
      "outputs": [],
      "execution_count": null
    },
    {
      "cell_type": "markdown",
      "source": "In this jupyter notebook, we will explain how to solve diffusion equation with the finite difference method. \n To involve the physics, lets take heat diffusion equation for example:\n        $$\\rho C_p \\frac {\\partial T}  {\\partial t} =\\frac {\\partial} {\\partial x} (k \\frac {\\partial T} {\\partial x})  $$",
      "metadata": {}
    },
    {
      "cell_type": "markdown",
      "source": "It can be simplified to: \n        $$ \\frac {\\partial T}  {\\partial t} =\\frac {\\partial} {\\partial x} (D \\frac {\\partial T} {\\partial x})  $$",
      "metadata": {}
    },
    {
      "cell_type": "markdown",
      "source": "Now we can start to do the numerical discretization. One can do it directly on ths 2nd partial differential equation,but\nhere we will split it into two 1st order PDEs.  It is for the conveniance of introducing Pseudo-transient method with dampening. \n        $$ q =- D \\frac {\\partial T} {\\partial x}  $$\n        $$ \\frac {\\partial T}  {\\partial t} =-\\frac{\\partial q} {\\partial x}  $$",
      "metadata": {}
    },
    {
      "cell_type": "markdown",
      "source": "In fact, these two equations has physical meaning.q is the scaled heat flux ($q_{real}=q * \\rho C_p$). \nPhysically,q is the flux\n$$ q_i =- D \\frac {T_i-T_{i-1}} {\\Delta x}  $$\n    $$ \\frac {{T_i}^{t+1}-{T_i}^t}  {\\Delta t} =-\\frac{{q_i}^t-{q_i}^t}  {\\Delta x} \\rightarrow \\color {red} {\\Delta T_{dt}}  $$\n\\",
      "metadata": {}
    },
    {
      "cell_type": "markdown",
      "source": "This leads to:\n$${T_i}^{t+1}={T_i}^t+ \\Delta t *\\color {red}{\\Delta T_{dt}}  $$\n",
      "metadata": {}
    },
    {
      "cell_type": "code",
      "source": "It suggests that we can easily calculate the new T at any location if the old T field is known. ",
      "metadata": {
        "trusted": true
      },
      "outputs": [],
      "execution_count": null
    },
    {
      "cell_type": "code",
      "source": "import numpy as np\nimport matplotlib.pyplot as plt\n\n# Constants\nLx = 10\nD = 100\nnx = 150*1  # nx cell\ndx = Lx / nx\nImax = 100 * nx\n\n# Initiation\nx = np.linspace(0, Lx, nx + 1)\nxc = (x[:-1] + x[1:]) / 2\nT0 = np.zeros(nx)\na = 0.5 * Lx\nt0 = Lx * Lx / D / 1600\nT0 = np.exp(-(xc - a) ** 4 / (4 * D * t0))\n#T0 [xc<5]=1;\nTold = T0\nT = T0.copy()\nf = np.sin(xc)\nf[:] = 0\n\n# Boundary condition\ndTdt = np.zeros(nx - 2)\n\ncnt = 100\nepsi = 1e-3\ntsc = Lx * Lx / D  # 100\nCFL = 0.8\nndim = 1\nitertol = 0\ndtaudiff = CFL * dx * dx / (2 * D * ndim)\ndt = dtaudiff * 0.01\ntime = 0\nttol = 0.1 * tsc  # 0.1 * tsc\nTana0 = np.sqrt(t0 / (t0 + ttol)) * np.exp(-(xc - a) ** 2 / (4 * D * (t0 + ttol)))\n#T[0] = Tana0[0]\n#T[-1] = Tana0[-1]\n\nit = 0\nplt.show()\nwhile time < ttol * 0.999 and it < 10000:\n    q = -D * np.diff(T) / dx\n    dTdt = (-np.diff(q) / dx + f[1:-1])\n    #T[1:-1] = T[1:-1] + dt * dTdt\n    T[1:-1] = T[1:-1] + dt * dTdt\n\n    it = it + 1\n    time = time + dt\n    Told = T\n    if it % 100 == 0:\n        #print(it)\n        plt.clf()\n        plt.plot(xc, T, 'b', xc, T0, 'k');\n\n\n# Tana = 1 / np.sqrt(4 * (ttol + 1 / 4)) * np.exp(-(xc - a) ** 2 / (4 * D * (ttol + 1 / 4)))\nTana = np.sqrt(t0 / (t0 + time)) * np.exp(-(xc - a) ** 2 / (4 * D * (t0 + time)))\nplt.figure()\nplt.plot(xc, T, 'b', xc, Tana, 'r', xc, T0, 'k')\nplt.show()\n\nprint('Total %d step are calculated.\\nThe physical time is =%3.1f\\n' % (it, time))\n\n\n# play with  initial condition T,\n# different dt. dt<()\n# play with boundary condition\n# change the code to solve the heat conduction problem: zero tempeature everywhere but high temperature at boundary\n",
      "metadata": {
        "trusted": true
      },
      "outputs": [],
      "execution_count": null
    },
    {
      "cell_type": "code",
      "source": "print(Tana0[0])\nprint(np.size(T[1:-1]))",
      "metadata": {
        "trusted": true
      },
      "outputs": [],
      "execution_count": null
    },
    {
      "cell_type": "code",
      "source": "",
      "metadata": {
        "trusted": true
      },
      "outputs": [],
      "execution_count": null
    }
  ]
}