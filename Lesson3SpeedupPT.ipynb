{
 "cells": [
  {
   "cell_type": "markdown",
   "metadata": {},
   "source": [
    "In this lesson, we will explain how to speed up the PT method introduced by adding a dampening factor. \n",
    "\n",
    "Sometimes, it is quite easy to edit the code to improve its performance, while it may take much more understanding why it work. This is the case here!\n",
    "\n",
    "In fact, we only need to $ \\color {red} {add \\ two\\  line\\  to\\ speed up }$ the code Diff1D_implicit.m.\n",
    "Check Diff1D_implicit_2nd.m for these two lines:\n",
    "\n",
    "   $$\\color {red} {dTdtau2    = dTdtau1 + damp*dTdtau2;}  \\tag{1} $$\n",
    "   $$\\color {red} {T(2:nx-1) = T(2:nx-1) + dtau*dTdtau2;} $$"
   ]
  },
  {
   "cell_type": "markdown",
   "metadata": {},
   "source": [
    "Try not use Diff1D_implicit_2nd.m directly,  but modify your previous code! So that you  will experience how to speed up your code! \n",
    "\n",
    "Add these two line by yourself on your own version of Diff1D_implicit.m. Simply use the recommned dampening parameters for now, i.e.damp=1-6*pi/nx.  Run the code and check the convergence, think about two questions before you preceed ：\n",
    "\n",
    "1. To what extent the code is speeded up?  10 times ? 100 times? or does iy depend on the resolution nx?\n",
    "\n",
    "2. What do these two lines do exactly? \n",
    "\n",
    "3. Do you think these two line would change the solution ? or Would the calculation converge to the same solution than before?  if no, why?  \n",
    "\n",
    "runing....thinking ......\n",
    "\n",
    "\n",
    "\n",
    "\n"
   ]
  },
  {
   "cell_type": "markdown",
   "metadata": {},
   "source": [
    "The change rate of T ($\\frac {dT}{dt}) now depend on not only the current estimation of $-\\frac{\\partial q} {\\partial x $ but also its previous value with a dampening parameters. We can see that it speed up the calculation significantly.  But Why?   It is easy to know that the 2nd pseudo time derivative have been considered, which make it possible to speed up.  But how exactly?  I would recommend one enjoy the speeding up for a moment before you go to the details!   If it works (in speed and accuracy), that is all about it! Why care so much，  while there is already so much to worry in daily life？\n",
    "\n",
    "\n",
    "\n"
   ]
  },
  {
   "cell_type": "markdown",
   "metadata": {},
   "source": [
    "\n",
    "However, I will provide an explanation. One can goes into it when you have time and are interested. \n",
    "Now Lets go back the Eq. 2) in Lesson 2: \n",
    "$$  \\color {red} {\\frac  {dT} {\\Delta \\tau}} =  $$\n",
    "$$-\\frac {{T_i}^{\\tau}-{T_i}^t}  {\\Delta t} -\\frac{{q_i}^{\\tau}-{q_{i-1}}^{\\tau}}  {\\Delta x}  \\tag{2}   $$"
   ]
  },
  {
   "cell_type": "markdown",
   "metadata": {},
   "source": []
  },
  {
   "cell_type": "markdown",
   "metadata": {},
   "source": [
    "Lets add 2nd pseudo time derivative with coefficients as well: \n",
    "\n",
    "$$ \\color {red} {a\\frac  {d^2 T} {\\Delta \\tau^2}} + b \\color {red} {\\frac  {dT} {\\Delta \\tau}} = $$\n",
    "$$-\\frac {{T_i}^{\\tau}-{T_i}^t}  {\\Delta t} -\\frac{{q_i}^{\\tau}-{q_{i-1}}^{\\tau}}  {\\Delta x}  \\tag{2}   $$"
   ]
  },
  {
   "cell_type": "markdown",
   "metadata": {},
   "source": [
    "Remove the discretisation of the spatial derivative for easier analysis:\n",
    "$$  a\\frac  {d^2 T} {\\Delta \\tau^2} + b \\frac  {dT} {\\Delta \\tau} +\\frac {{T}-{T}^{old}}  {\\Delta t} - D \\frac{\\partial^2 T}{\\partial x^2}=0 \\tag{3}   $$"
   ]
  },
  {
   "cell_type": "markdown",
   "metadata": {},
   "source": [
    "In order to have the same formulation as Eq.1), which is:\n",
    "  $$(\\frac {dT}{d\\tau})_{new}= (\\frac {dT}{\\Delta \\tau})_{nodampening} +damp*(\\frac{dT}{d\\tau})_{old}  =-\\frac {{T_i}^{\\tau}-{T_i}^t}  {\\Delta t} -\\frac{{q_i}^{\\tau}-{q_{i-1}}^{\\tau}}  {\\Delta x} +damp*(\\frac{dT}{d\\tau})_{old}  \\tag{4}$$"
   ]
  },
  {
   "cell_type": "markdown",
   "metadata": {},
   "source": [
    "Notice that we use Eq.1) to replace $\\frac {dT}{d\\tau}$, which is the $\\frac {dT}{d\\tau}$ for the case without dampening! In this case, $\\frac {dT}{d\\tau}$ always contains the info from last iteration.\n",
    "<br>\n",
    "We can choosen the following parameter: (check this by do the (pseudo) time discretization of T)\n",
    "                                                                    $$a=\\Delta\\tau, damp=1-b$$"
   ]
  },
  {
   "cell_type": "markdown",
   "metadata": {},
   "source": [
    "Apply the fourier anaylysis of T:\n",
    "$$\n",
    "T = \\sum Q_k e^{\\lambda_\\omega \\tau} \\sin\\left(\\frac{\\omega \\pi X}{L}\\right) \\tag{5}\n",
    "$$\n",
    "\n",
    "Then we have:\n",
    "\n",
    "$$\n",
    "a \\lambda^2 + b \\lambda + \\frac{1}{\\Delta t}+ \\left(D\\frac{\\pi^2 w^2}{L^2}\\right) = 0   \\tag{6}\n",
    "$$\n"
   ]
  },
  {
   "cell_type": "markdown",
   "metadata": {},
   "source": [
    "\n",
    "The fourier formulation show the evolution of T as a function of pseudo time $\\tau$, so $\\lambda_\\omega$ is the convergence factor of T through (pseudo) time for its component with the wave number $\\omega$. We need the best $\\lambda_\\omega$. As $\\omega=1$ is usually most relevant, we will try to solve $\\lambda_1$.\n",
    "\n",
    "In order to let Eq.5) have extreme solution of $\\lambda$, its determinant should be zero:\n",
    "$$b^2 - 4a (\\left(\\frac{1}{\\Delta_t} + DA\\right) = 0 \\tag{7}$$"
   ]
  },
  {
   "cell_type": "markdown",
   "metadata": {},
   "source": [
    "So, We can solve a as: \n",
    " $$ b = ± 2\\sqrt{\\frac {a}{Δt} + \\frac {aD\\pi^2\\omega^2} {L^2}}= ± 2\\sqrt{\\frac {\\Delta\\tau}{Δt} + \\frac {\\Delta\\tau D\\pi^2\\omega^2} {L^2}}\n",
    " =± 2\\sqrt{t_r + \\frac {CFL*dx^2*\\pi^2\\omega^2} {2L^2}}=± 2\\sqrt{t_r + \\frac {CFL*\\pi^2\\omega^2} {2 n_x^2}} \\tag{8}$$\n",
    "\n",
    " where as,\n",
    " $$ t_r= \\frac {\\Delta\\tau}{\\Delta_t}$$\n",
    " $$ A=\\frac {CFL*\\pi^2\\omega^2} {2 n_x^2}"
   ]
  },
  {
   "cell_type": "markdown",
   "metadata": {},
   "source": [
    "Considering the $\\Delta\\tau$ should be smaller than the diffusion timestep,$\\Delta_t$ should be larger but not too larger either. $t_r$ is within range of ($0.001<t_r<1)$.\n",
    "A is usually much smaller than this range unless for the low resolution such as $n_x<=50$, which is not so usually to be used. So the value of a and dampening parameters are mainly controled by ratio of times $t_r$. \n",
    "Test different damp and $t_r$ to have a better understanding of these parameters in the numerical modelling!"
   ]
  },
  {
   "cell_type": "markdown",
   "metadata": {},
   "source": [
    "\n",
    "\n",
    "\n",
    "### Plan: \n",
    "<br>\n",
    "Lesson 4: 2D diffusion equation. based on 1D analysis and 1D code!        One will find the 1D analysis can also work in 2D. fantastic!.  plot lambda_  to give better understanding of it for the iteration process!   \n",
    "<br>\n",
    "Lesson5: use another dampening scheme that can derive with sympy.  So it would easier to derive for complex problem. !  implement it as a code as well! do 1D case first with hand derivation and then introduce the matrix determinent version, so that we don't have to do hand derivation, especially when there are more than 2 equations. !!!\n",
    "\n",
    "<br>\n",
    "Lesson 5?: 2D Stokes equation. 2nd dampening by adding 2nd time derivative directly!   diffusion step and wave step. I might spare this part or simply show the code, which is quite easier!\n",
    "<br>\n",
    "\n",
    "Lesson 6: Stokes equation with more advanced dampening scheme with sympy.  rhoV dVx/dt  rhoV dVy/dt   1/K dP/dt.   check the sympy script. \n",
    "<br>\n",
    "\n",
    "Lesson 7: introduce discrete fourer series.  $$ V=e^{-k\\Delta t}e^{(i*pi*x/L)} $$   $$\\Delta_ t= CFL*dx/Vs$$. So we can analysi the reducing factor for every pseudo step, and achieve faster convergence.  \n",
    "<br>"
   ]
  }
 ],
 "metadata": {
  "kernelspec": {
   "display_name": "Python 3 (ipykernel)",
   "language": "python",
   "name": "python3"
  },
  "language_info": {
   "codemirror_mode": {
    "name": "ipython",
    "version": 3
   },
   "file_extension": ".py",
   "mimetype": "text/x-python",
   "name": "python",
   "nbconvert_exporter": "python",
   "pygments_lexer": "ipython3",
   "version": "3.8.5"
  }
 },
 "nbformat": 4,
 "nbformat_minor": 4
}
