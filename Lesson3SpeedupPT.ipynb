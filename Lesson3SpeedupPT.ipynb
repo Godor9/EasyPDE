{
 "cells": [
  {
   "cell_type": "markdown",
   "metadata": {},
   "source": [
    "In this lesson, we will explain how to speed up the PT method introduced by adding a dampening factor. \n",
    "\n",
    "Sometimes, it is quite easy to edit the code to improve its performance, while it may take much more understanding why it work. This is the case here!\n",
    "\n",
    "In fact, we only need to $ \\color {red} {add \\ two\\  line\\  to\\ speed up }$ the code Diff1D_implicit.m.\n",
    "Check Diff1D_implicit_2nd.m for these two lines:\n",
    "\n",
    "   $$\\color {red} {dTdtau2    = dTdtau1 + damp*dTdtau2;}  \\tag{1} $$\n",
    "   $$\\color {red} {T(2:nx-1) = T(2:nx-1) + dtau*dTdtau2;} $$"
   ]
  },
  {
   "cell_type": "markdown",
   "metadata": {},
   "source": [
    "Try not use Diff1D_implicit_2nd.m directly,  but modify your previous code! So that you  will experience how to speed up your code! \n",
    "\n",
    "Add these two line by yourself on your own version of Diff1D_implicit.m. Simply use the recommned dampening parameters for now, i.e.damp=1-6*pi/nx.  Run the code with the following excercises \n",
    "1. To what extent the code is speeded up?  10 times ? 100 times? or does it depend on the resolution nx?  \n",
    "2. what if you use a different dampening parameter? how does it change the convergence?  try with a simple damp from 0.6 to 0.95.\n",
    "\n",
    "Try to think about three questions before you preceed to next paragraph：\n",
    "\n",
    "1. What do these two lines do exactly? \n",
    "\n",
    "2. Do you think these two line would change the solution ? or Would the calculation converge to the same solution than before?  if no, why?  \n",
    "\n",
    "runing....thinking ......\n",
    "\n",
    "\n",
    "\n",
    "\n"
   ]
  },
  {
   "cell_type": "markdown",
   "metadata": {},
   "source": [
    "We can see that it speed up the calculation significantly.  Please confirm it with your own testing by increasing the resolution (nx)! You should see at least 10x speedup. If you increasing nx for higher resolution and accuracy, you might find 100x speedup. \n",
    "\n",
    "Once you are sure that it speed up the convergence, consider another issue, would adding this two line for speedup change the solution?  How do you know that?   \n",
    "First,  you can compare the new numerical result with the result that do not have the speedup. check the difference by comparing the plottings!\n",
    "Second, think about the reason from the code logic. Hint: what do we aim for $\\frac {dT}{dt}$ by pseudo time-stepping to solve the T field?\n",
    "\n"
   ]
  },
  {
   "cell_type": "markdown",
   "metadata": {},
   "source": [
    "\n",
    "After making sure that the code can really produce the same result with a must faster convergence.  You may wonder why these two simple lines speed up the  pseudo time-stepping/iteration/continuation.\n",
    "Here is the hint: the change rate of T (i.e. $\\frac {dT}{dt}$) now depend on not only the current estimation of $-\\frac{\\partial q} {\\partial x} $ but also its previous value by a dampening parameters. This involve 2nd derivative of T, i.e. $\\frac {d^2T}{dt^2}$\n",
    "The PT method without dampening parameter is based on this formulation from Lesson 2:\n",
    "\n",
    "$$  \\color {red} {\\frac  {dT} {\\Delta \\tau}} =  $$\n",
    "$$-\\frac {{T_i}^{\\tau}-{T_i}^t}  {\\Delta t} -\\frac{{q_i}^{\\tau}-{q_{i-1}}^{\\tau}}  {\\Delta x}  \\tag{2}   $$\n",
    "\n",
    "With the dampening parameter, the accelerated PT method is now based on:\n",
    "\n",
    "$$ \\color {red} {a\\frac  {d^2 T} {\\Delta \\tau^2}} + b \\color {red} {\\frac  {dT} {\\Delta \\tau}} = $$\n",
    "$$-\\frac {{T_i}^{\\tau}-{T_i}^t}  {\\Delta t} -\\frac{{q_i}^{\\tau}-{q_{i-1}}^{\\tau}}  {\\Delta x}  \\tag{3}   $$\n"
   ]
  },
  {
   "cell_type": "markdown",
   "metadata": {},
   "source": [
    "Eq.2) may give us some understanding why the PT method with dampening parameter speed up the convergence, based on the physical intuition. But it requires a slightly complicated derivation to know how to choose optimized a and b (and dampening paramter) for the acceleration.  We do provide a supplementary material for the deriviation process, but it is not necessary for you to understand it before you can do a lot of things with PT method. I would recommend one enjoy the acceleration of PT method by simply adding two lines for some moment.  \n",
    "\n",
    "At last, I encourage you to write down a short report on the test results and your own understanding about the PT method and its speedup!\n",
    "\n",
    "\n"
   ]
  }
 ],
 "metadata": {
  "kernelspec": {
   "display_name": "Python 3 (ipykernel)",
   "language": "python",
   "name": "python3"
  },
  "language_info": {
   "codemirror_mode": {
    "name": "ipython",
    "version": 3
   },
   "file_extension": ".py",
   "mimetype": "text/x-python",
   "name": "python",
   "nbconvert_exporter": "python",
   "pygments_lexer": "ipython3",
   "version": "3.8.5"
  }
 },
 "nbformat": 4,
 "nbformat_minor": 4
}
