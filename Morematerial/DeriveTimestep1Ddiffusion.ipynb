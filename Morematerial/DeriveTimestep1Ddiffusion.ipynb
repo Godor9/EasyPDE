{
 "cells": [
  {
   "cell_type": "markdown",
   "metadata": {},
   "source": [
    "This jupyter notebook gives non-rigorous proof for the maximum timestep for 1D diffusion equation. More strict proof would involve fourier analysis, while one can find it easily by searching online. \n",
    "The main criteria of error analysis is that the absolute value of error $\\epsilon=T_r-T^t$ should at least not increase through time marching.\n",
    "\n",
    "Here is the error analysis:"
   ]
  },
  {
   "cell_type": "markdown",
   "metadata": {},
   "source": [
    "$$\n",
    "\\frac{dT}{dt} = D \\frac{d^2 T}{dx^2}\n",
    "$$\n",
    "\n",
    "\n"
   ]
  },
  {
   "cell_type": "markdown",
   "metadata": {},
   "source": [
    "\n",
    "\n",
    "Using an explicit time-stepping scheme:\n",
    "$$\n",
    "T_i^{t+1} = T_i^t + \\Delta t \\frac{dT}{dt}=T_i^t + \\Delta t \\cdot D\\frac{\\partial^2 T}{dx^2}\n",
    "$$\n",
    "\n",
    "\n",
    "Discretizing the spatial derivative:\n",
    "\n",
    "$$\n",
    "\\frac{\\partial^2 T}{\\partial x^2} = \\frac{\\partial}{\\partial x} \\left(\\frac {\\partial T}{\\Delta x}\\right) = \\frac{T_{i+1} - 2T_i + T_{i-1}}{\\Delta x^2}\n",
    "$$\n",
    "\n",
    "Thus, the update equation becomes:\n",
    "\n",
    "$$\n",
    "T_i^{t+1} = T_i^t + \\frac{D\\Delta t}{\\Delta x^2} (T_{i+1}^t + T_{i-1}^t - 2T_i^t)\n",
    "$$\n",
    "\n",
    "Or equivalently:\n",
    "\n",
    "$$\n",
    "T_i^{t+1} = (1 - \\frac{2D\\Delta t}{\\Delta x^2}) T_i^t + \\frac{D\\Delta t}{\\Delta x^2} (T_{i+1}^t + T_{i-1}^t)\n",
    "$$\n",
    "\n",
    "We assume the propagation of the error $\\epsilon=|T_r-T^t|$ has the same formulation of T. So, we impose:\n",
    "\n",
    "$$\n",
    "\\epsilon^{t+1} = \\left(1 - \\frac{2D\\Delta t}{\\Delta x^2}\\right)\\epsilon_i^t + \\frac{2D\\Delta t}{\\Delta x^2}(\\epsilon_{i+1}^t + \\epsilon_{i-1}^t) \n",
    "$$\n"
   ]
  },
  {
   "cell_type": "markdown",
   "metadata": {},
   "source": [
    "Consider the worst case: $\\epsilon_{i+1}^t$ and  $\\epsilon_{i-1}^t$ has the same sign, which is different with $\\epsilon_{i-1}^t$:\n",
    "                        $$\\epsilon_{i+1}^t\\epsilon_{i-1}^t>0 $$\n",
    "                        $$\\epsilon_{i+1}^t\\epsilon_{i}^t<0 $$\n",
    "\n",
    "Then we have:\n",
    "\n",
    "$$\\epsilon^{t+1} = \\left(1 - \\frac{2D\\Delta t}{\\Delta x^2}\\right)\\epsilon_i^t - \\frac{2D\\Delta t}{\\Delta x^2}\\epsilon_i^t =\\left(1 - \\frac{4D\\Delta t}{\\Delta x^2}\\right)\\epsilon_i^t\n",
    "$$\n",
    "\n",
    "\n",
    "\n",
    "In order to let $\\epsilon^t+1$ to be smaller than $\\epsilon^t$, it requires:\n",
    "\n",
    "$$\n",
    "\\left(1 - \\frac{4D\\Delta t}{\\Delta x^2}\\right) >-1  \n",
    "$$\n",
    "$$\n",
    "\\left(1 - \\frac{4D\\Delta t}{\\Delta x^2}\\right) <1 \n",
    "$$\n"
   ]
  },
  {
   "cell_type": "markdown",
   "metadata": {},
   "source": [
    "\n",
    "This leads to the stability condition:\n",
    "\n",
    "$$\n",
    "\\Delta t \\leq \\frac{\\Delta x^2}{2D}\n",
    "$$"
   ]
  },
  {
   "cell_type": "markdown",
   "metadata": {},
   "source": [
    "This simple analysis is attributed to Prof Jeroen van Hunen from Durham University. I was the teaching assistant for his course of numerical course. \n",
    "Using the same techniques, one can also derive timestep for for 2D and 3D cases, the general formulation is :\n",
    "$$\n",
    "\\Delta t \\leq \\frac{min (\\Delta x^2,\\Delta y^2,\\Delta z^2)}{2D\\cdot n_{dim}}\n",
    "$$\n",
    "Notice that we replace $\\Delta x$ with the smallest value among $\\Delta x,\\Delta y,\\Delta z$ and add the dimensional number $n_{dim}$\n"
   ]
  }
 ],
 "metadata": {
  "kernelspec": {
   "display_name": "base",
   "language": "python",
   "name": "python3"
  },
  "language_info": {
   "name": "python",
   "version": "3.8.5"
  }
 },
 "nbformat": 4,
 "nbformat_minor": 2
}
